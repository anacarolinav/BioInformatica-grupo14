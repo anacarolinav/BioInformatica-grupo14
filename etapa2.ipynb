{
 "cells": [
  {
   "cell_type": "code",
   "execution_count": 1,
   "id": "d6a69607",
   "metadata": {},
   "outputs": [],
   "source": [
    "import pandas as pd"
   ]
  },
  {
   "cell_type": "markdown",
   "id": "c70800ab",
   "metadata": {},
   "source": [
    "# ETAPA 2 - Métodos de clustering"
   ]
  },
  {
   "cell_type": "code",
   "execution_count": 2,
   "id": "e7a3ecee",
   "metadata": {},
   "outputs": [
    {
     "data": {
      "image/png": "[encoded data removed]",
      "text/plain": [
       "<Figure size 432x288 with 1 Axes>"
      ]
     },
     "metadata": {
      "needs_background": "light"
     },
     "output_type": "display_data"
    },
    {
     "data": {
      "image/png": "[encoded data removed]",
      "text/plain": [
       "<Figure size 432x288 with 1 Axes>"
      ]
     },
     "metadata": {
      "needs_background": "light"
     },
     "output_type": "display_data"
    },
    {
     "name": "stdout",
     "output_type": "stream",
     "text": [
      "                   Patient ID  \\\n",
      "Sample ID                       \n",
      "TCGA-05-4244-01  TCGA-05-4244   \n",
      "TCGA-05-4249-01  TCGA-05-4249   \n",
      "TCGA-05-4250-01  TCGA-05-4250   \n",
      "TCGA-05-4382-01  TCGA-05-4382   \n",
      "TCGA-05-4384-01  TCGA-05-4384   \n",
      "...                       ...   \n",
      "TCGA-NJ-A55O-01  TCGA-NJ-A55O   \n",
      "TCGA-NJ-A55R-01  TCGA-NJ-A55R   \n",
      "TCGA-NJ-A7XG-01  TCGA-NJ-A7XG   \n",
      "TCGA-O1-A52J-01  TCGA-O1-A52J   \n",
      "TCGA-S2-AA1A-01  TCGA-S2-AA1A   \n",
      "\n",
      "                American Joint Committee on Cancer Tumor Stage Code  \\\n",
      "Sample ID                                                             \n",
      "TCGA-05-4244-01                                                 T2    \n",
      "TCGA-05-4249-01                                                 T2    \n",
      "TCGA-05-4250-01                                                 T3    \n",
      "TCGA-05-4382-01                                                 T2    \n",
      "TCGA-05-4384-01                                                 T2    \n",
      "...                                                            ...    \n",
      "TCGA-NJ-A55O-01                                                T1b    \n",
      "TCGA-NJ-A55R-01                                                T1b    \n",
      "TCGA-NJ-A7XG-01                                                 T4    \n",
      "TCGA-O1-A52J-01                                                 T1    \n",
      "TCGA-S2-AA1A-01                                                T1b    \n",
      "\n",
      "                                Cancer Type Cancer Type Detailed  \\\n",
      "Sample ID                                                          \n",
      "TCGA-05-4244-01  Non-Small Cell Lung Cancer  Lung Adenocarcinoma   \n",
      "TCGA-05-4249-01  Non-Small Cell Lung Cancer  Lung Adenocarcinoma   \n",
      "TCGA-05-4250-01  Non-Small Cell Lung Cancer  Lung Adenocarcinoma   \n",
      "TCGA-05-4382-01  Non-Small Cell Lung Cancer  Lung Adenocarcinoma   \n",
      "TCGA-05-4384-01  Non-Small Cell Lung Cancer  Lung Adenocarcinoma   \n",
      "...                                     ...                  ...   \n",
      "TCGA-NJ-A55O-01  Non-Small Cell Lung Cancer  Lung Adenocarcinoma   \n",
      "TCGA-NJ-A55R-01  Non-Small Cell Lung Cancer  Lung Adenocarcinoma   \n",
      "TCGA-NJ-A7XG-01  Non-Small Cell Lung Cancer  Lung Adenocarcinoma   \n",
      "TCGA-O1-A52J-01  Non-Small Cell Lung Cancer  Lung Adenocarcinoma   \n",
      "TCGA-S2-AA1A-01  Non-Small Cell Lung Cancer  Lung Adenocarcinoma   \n",
      "\n",
      "                Form completion date Neoplasm Histologic Type Name  \\\n",
      "Sample ID                                                            \n",
      "TCGA-05-4244-01              7/22/10           Lung Adenocarcinoma   \n",
      "TCGA-05-4249-01              7/22/10           Lung Adenocarcinoma   \n",
      "TCGA-05-4250-01              7/22/10           Lung Adenocarcinoma   \n",
      "TCGA-05-4382-01              7/22/10           Lung Adenocarcinoma   \n",
      "TCGA-05-4384-01              7/22/10           Lung Adenocarcinoma   \n",
      "...                              ...                           ...   \n",
      "TCGA-NJ-A55O-01              9/27/13           Lung Adenocarcinoma   \n",
      "TCGA-NJ-A55R-01              9/27/13           Lung Adenocarcinoma   \n",
      "TCGA-NJ-A7XG-01              5/22/14           Lung Adenocarcinoma   \n",
      "TCGA-O1-A52J-01              4/11/13           Lung Adenocarcinoma   \n",
      "TCGA-S2-AA1A-01              4/22/14           Lung Adenocarcinoma   \n",
      "\n",
      "                Prior Cancer Diagnosis Occurence ICD-10 Classification  \\\n",
      "Sample ID                                                                \n",
      "TCGA-05-4244-01                               No                 C34.3   \n",
      "TCGA-05-4249-01                               No                 C34.3   \n",
      "TCGA-05-4250-01                               No                 C34.3   \n",
      "TCGA-05-4382-01                              Yes                 C34.1   \n",
      "TCGA-05-4384-01                              Yes                 C34.3   \n",
      "...                                          ...                   ...   \n",
      "TCGA-NJ-A55O-01                               No                 C34.1   \n",
      "TCGA-NJ-A55R-01                               No                 C34.1   \n",
      "TCGA-NJ-A7XG-01                               No                 C34.1   \n",
      "TCGA-O1-A52J-01                               No                 C34.3   \n",
      "TCGA-S2-AA1A-01                               No                 C34.1   \n",
      "\n",
      "                International Classification of Diseases for Oncology, Third Edition ICD-O-3 Histology Code  \\\n",
      "Sample ID                                                                                                     \n",
      "TCGA-05-4244-01                                             8140/3                                            \n",
      "TCGA-05-4249-01                                             8140/3                                            \n",
      "TCGA-05-4250-01                                             8140/3                                            \n",
      "TCGA-05-4382-01                                             8255/3                                            \n",
      "TCGA-05-4384-01                                             8255/3                                            \n",
      "...                                                            ...                                            \n",
      "TCGA-NJ-A55O-01                                             8480/3                                            \n",
      "TCGA-NJ-A55R-01                                             8230/3                                            \n",
      "TCGA-NJ-A7XG-01                                             8140/3                                            \n",
      "TCGA-O1-A52J-01                                             8140/3                                            \n",
      "TCGA-S2-AA1A-01                                             8253/3                                            \n",
      "\n",
      "                International Classification of Diseases for Oncology, Third Edition ICD-O-3 Site Code  \\\n",
      "Sample ID                                                                                                \n",
      "TCGA-05-4244-01                                              C34.3                                       \n",
      "TCGA-05-4249-01                                              C34.3                                       \n",
      "TCGA-05-4250-01                                              C34.3                                       \n",
      "TCGA-05-4382-01                                              C34.1                                       \n",
      "TCGA-05-4384-01                                              C34.3                                       \n",
      "...                                                            ...                                       \n",
      "TCGA-NJ-A55O-01                                              C34.1                                       \n",
      "TCGA-NJ-A55R-01                                              C34.1                                       \n",
      "TCGA-NJ-A7XG-01                                              C34.1                                       \n",
      "TCGA-O1-A52J-01                                              C34.3                                       \n",
      "TCGA-S2-AA1A-01                                              C34.1                                       \n",
      "\n",
      "                 ... Oncotree Code Overall Survival Status  \\\n",
      "Sample ID        ...                                         \n",
      "TCGA-05-4244-01  ...          LUAD                  LIVING   \n",
      "TCGA-05-4249-01  ...          LUAD                  LIVING   \n",
      "TCGA-05-4250-01  ...          LUAD                DECEASED   \n",
      "TCGA-05-4382-01  ...          LUAD                  LIVING   \n",
      "TCGA-05-4384-01  ...          LUAD                  LIVING   \n",
      "...              ...           ...                     ...   \n",
      "TCGA-NJ-A55O-01  ...          LUAD                  LIVING   \n",
      "TCGA-NJ-A55R-01  ...          LUAD                  LIVING   \n",
      "TCGA-NJ-A7XG-01  ...          LUAD                  LIVING   \n",
      "TCGA-O1-A52J-01  ...          LUAD                DECEASED   \n",
      "TCGA-S2-AA1A-01  ...          LUAD                  LIVING   \n",
      "\n",
      "                                     Other Patient ID  \\\n",
      "Sample ID                                               \n",
      "TCGA-05-4244-01  34040b83-7e8a-4264-a551-b16621843e28   \n",
      "TCGA-05-4249-01  4addf05f-3668-4b3f-a17f-c0227329ca52   \n",
      "TCGA-05-4250-01  f98ecd8a-b878-4f53-b911-20cd8e17281c   \n",
      "TCGA-05-4382-01  3434b91a-c05f-460f-a078-7b1bb6e7085d   \n",
      "TCGA-05-4384-01  9a50e7e4-831d-489f-87d2-979e987561cc   \n",
      "...                                               ...   \n",
      "TCGA-NJ-A55O-01  8AB8C4BA-311E-41D0-85EA-A0245ACA1BDD   \n",
      "TCGA-NJ-A55R-01  7C7D777B-BF00-4C24-97FC-922580D5605F   \n",
      "TCGA-NJ-A7XG-01  01E9888D-B5B9-48F1-8BA6-8A89AF108A04   \n",
      "TCGA-O1-A52J-01  42432463-8E92-4F25-B72A-F03953527AA5   \n",
      "TCGA-S2-AA1A-01  31458638-E19C-43E5-AB13-9C64B3B3681D   \n",
      "\n",
      "                Number of Samples Per Patient  Sample Type Sample type id  \\\n",
      "Sample ID                                                                   \n",
      "TCGA-05-4244-01                             1      Primary              1   \n",
      "TCGA-05-4249-01                             1      Primary              1   \n",
      "TCGA-05-4250-01                             1      Primary              1   \n",
      "TCGA-05-4382-01                             1      Primary              1   \n",
      "TCGA-05-4384-01                             1      Primary              1   \n",
      "...                                       ...          ...            ...   \n",
      "TCGA-NJ-A55O-01                             1      Primary              1   \n",
      "TCGA-NJ-A55R-01                             1      Primary              1   \n",
      "TCGA-NJ-A7XG-01                             1      Primary              1   \n",
      "TCGA-O1-A52J-01                             1      Primary              1   \n",
      "TCGA-S2-AA1A-01                             1      Primary              1   \n",
      "\n",
      "                    Sex Tissue Source Site Tumor Site Patient's Vital Status  \n",
      "Sample ID                                                                     \n",
      "TCGA-05-4244-01    MALE                  5       Lung                  Alive  \n",
      "TCGA-05-4249-01    Male                  5       Lung                  Alive  \n",
      "TCGA-05-4250-01  Female                  5       Lung                   Dead  \n",
      "TCGA-05-4382-01    Male                  5       Lung                  Alive  \n",
      "TCGA-05-4384-01    Male                  5       Lung                  Alive  \n",
      "...                 ...                ...        ...                    ...  \n",
      "TCGA-NJ-A55O-01  Female                 NJ       Lung                  Alive  \n",
      "TCGA-NJ-A55R-01    Male                 NJ       Lung                  Alive  \n",
      "TCGA-NJ-A7XG-01    Male                 NJ       Lung                  Alive  \n",
      "TCGA-O1-A52J-01  Female                 O1       Lung                   Dead  \n",
      "TCGA-S2-AA1A-01  Female                 S2       Lung                  Alive  \n",
      "\n",
      "[517 rows x 21 columns]\n",
      "517\n",
      "\n",
      " NEW  Index(['Patient ID', 'Cancer Type', 'Prior Cancer Diagnosis Occurence',\n",
      "       'Number of Samples Per Patient', 'Sample Type', 'Sex',\n",
      "       'Patient's Vital Status'],\n",
      "      dtype='object')\n",
      "7\n",
      "\n",
      "  517\n",
      "                   Patient ID                 Cancer Type  \\\n",
      "Sample ID                                                   \n",
      "TCGA-05-4244-01  TCGA-05-4244  Non-Small Cell Lung Cancer   \n",
      "TCGA-05-4249-01  TCGA-05-4249  Non-Small Cell Lung Cancer   \n",
      "TCGA-05-4250-01  TCGA-05-4250  Non-Small Cell Lung Cancer   \n",
      "TCGA-05-4382-01  TCGA-05-4382  Non-Small Cell Lung Cancer   \n",
      "TCGA-05-4384-01  TCGA-05-4384  Non-Small Cell Lung Cancer   \n",
      "...                       ...                         ...   \n",
      "TCGA-NJ-A55O-01  TCGA-NJ-A55O  Non-Small Cell Lung Cancer   \n",
      "TCGA-NJ-A55R-01  TCGA-NJ-A55R  Non-Small Cell Lung Cancer   \n",
      "TCGA-NJ-A7XG-01  TCGA-NJ-A7XG  Non-Small Cell Lung Cancer   \n",
      "TCGA-O1-A52J-01  TCGA-O1-A52J  Non-Small Cell Lung Cancer   \n",
      "TCGA-S2-AA1A-01  TCGA-S2-AA1A  Non-Small Cell Lung Cancer   \n",
      "\n",
      "                Prior Cancer Diagnosis Occurence  \\\n",
      "Sample ID                                          \n",
      "TCGA-05-4244-01                               No   \n",
      "TCGA-05-4249-01                               No   \n",
      "TCGA-05-4250-01                               No   \n",
      "TCGA-05-4382-01                              Yes   \n",
      "TCGA-05-4384-01                              Yes   \n",
      "...                                          ...   \n",
      "TCGA-NJ-A55O-01                               No   \n",
      "TCGA-NJ-A55R-01                               No   \n",
      "TCGA-NJ-A7XG-01                               No   \n",
      "TCGA-O1-A52J-01                               No   \n",
      "TCGA-S2-AA1A-01                               No   \n",
      "\n",
      "                 Number of Samples Per Patient Sample Type     Sex  \\\n",
      "Sample ID                                                            \n",
      "TCGA-05-4244-01                              1     Primary    MALE   \n",
      "TCGA-05-4249-01                              1     Primary    Male   \n",
      "TCGA-05-4250-01                              1     Primary  Female   \n",
      "TCGA-05-4382-01                              1     Primary    Male   \n",
      "TCGA-05-4384-01                              1     Primary    Male   \n",
      "...                                        ...         ...     ...   \n",
      "TCGA-NJ-A55O-01                              1     Primary  Female   \n",
      "TCGA-NJ-A55R-01                              1     Primary    Male   \n",
      "TCGA-NJ-A7XG-01                              1     Primary    Male   \n",
      "TCGA-O1-A52J-01                              1     Primary  Female   \n",
      "TCGA-S2-AA1A-01                              1     Primary  Female   \n",
      "\n",
      "                Patient's Vital Status  \n",
      "Sample ID                               \n",
      "TCGA-05-4244-01                  Alive  \n",
      "TCGA-05-4249-01                  Alive  \n",
      "TCGA-05-4250-01                   Dead  \n",
      "TCGA-05-4382-01                  Alive  \n",
      "TCGA-05-4384-01                  Alive  \n",
      "...                                ...  \n",
      "TCGA-NJ-A55O-01                  Alive  \n",
      "TCGA-NJ-A55R-01                  Alive  \n",
      "TCGA-NJ-A7XG-01                  Alive  \n",
      "TCGA-O1-A52J-01                   Dead  \n",
      "TCGA-S2-AA1A-01                  Alive  \n",
      "\n",
      "[517 rows x 7 columns]\n"
     ]
    },
    {
     "data": {
      "image/png": "[encoded data removed]",
      "text/plain": [
       "<Figure size 432x288 with 1 Axes>"
      ]
     },
     "metadata": {},
     "output_type": "display_data"
    },
    {
     "data": {
      "image/png": "[encoded data removed]",
      "text/plain": [
       "<Figure size 432x288 with 1 Axes>"
      ]
     },
     "metadata": {},
     "output_type": "display_data"
    },
    {
     "data": {
      "image/png": "[encoded data removed]",
      "text/plain": [
       "<Figure size 432x288 with 1 Axes>"
      ]
     },
     "metadata": {
      "needs_background": "light"
     },
     "output_type": "display_data"
    }
   ],
   "source": [
    "%run /Users/anacarolinaalves/Desktop/1ºsemestre/Bioinf/trabalho/Dataset2/etapa1.ipynb"
   ]
  },
  {
   "cell_type": "code",
   "execution_count": null,
   "id": "bf09d474",
   "metadata": {},
   "outputs": [],
   "source": [
    "#standardizar e normalizar dados\n"
   ]
  },
  {
   "cell_type": "code",
   "execution_count": null,
   "id": "4244cc68",
   "metadata": {},
   "outputs": [],
   "source": []
  }
 ],
 "metadata": {
  "kernelspec": {
   "display_name": "Python 3 (ipykernel)",
   "language": "python",
   "name": "python3"
  },
  "language_info": {
   "codemirror_mode": {
    "name": "ipython",
    "version": 3
   },
   "file_extension": ".py",
   "mimetype": "text/x-python",
   "name": "python",
   "nbconvert_exporter": "python",
   "pygments_lexer": "ipython3",
   "version": "3.9.12"
  }
 },
 "nbformat": 4,
 "nbformat_minor": 5
}
